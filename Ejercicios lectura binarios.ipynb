{
 "cells": [
  {
   "cell_type": "code",
   "execution_count": 18,
   "metadata": {},
   "outputs": [],
   "source": [
    "import struct as  st\n",
    "import numpy as np\n",
    "import matplotlib.pyplot as plt\n",
    "%matplotlib inline"
   ]
  },
  {
   "cell_type": "code",
   "execution_count": 20,
   "metadata": {},
   "outputs": [],
   "source": [
    "var1 = np.random.rand(100)*10\n",
    "fHdl = open(\"Miprimerbin.bin\", \"wb\")\n",
    "var2 = st.pack(\"d\"*int(len(var1)), *var1)\n",
    "fHdl.write(var2)\n",
    "fHdl.close()"
   ]
  },
  {
   "cell_type": "code",
   "execution_count": 21,
   "metadata": {},
   "outputs": [
    {
     "name": "stdout",
     "output_type": "stream",
     "text": [
      "(4.583318614981318, 2.0073582613016203, 7.96190418120273, 9.25673655900525, 2.135500935244247, 5.74574438210494, 3.998113586921278, 8.140610366272348, 1.8683599625232072, 5.113785453351939, 7.093764834690073, 0.2671166667327274, 6.403080855838574, 4.82111707569477, 4.628541446773512, 0.45633302929498076, 9.475705911493401, 9.99135101346641, 2.961786376009404, 3.240083255027483, 8.507023013052985, 3.8581706332121413, 2.007315379676281, 4.936502906802184, 0.7648435225853911, 7.508228342752224, 5.540456369878482, 8.279785513514105, 5.788937388157551, 7.578786898281924, 7.872233697830313, 0.3609941914409709, 8.374429899572858, 7.185947316447151, 8.104580810388137, 6.953282768782466, 4.548546181803541, 4.87306915069429, 6.14826313077481, 9.64575038907557, 2.374633049150434, 4.316824349774091, 0.7790070505112967, 9.773835829478976, 2.4260696451474875, 8.116109680893109, 9.740970855867806, 9.107500451779787, 5.709055672357394, 3.058053573379942, 6.754731483881663, 9.434000106808075, 3.542380307280305, 2.9093674781410037, 0.5436787462348691, 2.348987422722825, 7.875517479883749, 0.7466088380805758, 0.00986755583719301, 9.130928261938593, 8.269896104411941, 9.4781190482238, 8.366900589830541, 4.446323763980045, 8.077309153544517, 4.306893424151129, 1.3097410654991914, 3.870117456557769, 2.3583114102337865, 7.896534790430826, 3.522616372393197, 3.5960218334587646, 6.03717913950783, 2.9291613473805276, 1.7042374433962126, 7.078156320753886, 5.345296986331625, 9.235520792899546, 0.7299104052232852, 5.350758161032887, 2.1680536908401282, 5.449211564976318, 5.410111719906805, 1.3635900750679997, 3.382157888819485, 2.3927770563801607, 7.331253116397278, 5.169306736805063, 6.72844757332107, 7.387177879456472, 5.707833016476828, 2.607596638813491, 4.0426813487126605, 1.835255303592167, 7.118457657040558, 0.17690677857076675, 2.0363806977607144, 6.900272140565536, 9.936382235282203, 2.105249194972978)\n"
     ]
    }
   ],
   "source": [
    "fHdl = open(\"Miprimerbin.bin\", \"rb\")\n",
    "var2 = fHdl.read()\n",
    "var3 = st.unpack(\"d\"*int(len(var2)/8), var2)\n",
    "fHdl.close()\n",
    "print(var3)"
   ]
  },
  {
   "cell_type": "code",
   "execution_count": 23,
   "metadata": {},
   "outputs": [
    {
     "data": {
      "image/png": "[encoded data removed]",
      "text/plain": [
       "<Figure size 432x288 with 1 Axes>"
      ]
     },
     "metadata": {
      "needs_background": "light"
     },
     "output_type": "display_data"
    }
   ],
   "source": [
    "var3 = np.array(var3)\n",
    "plt.figure()\n",
    "plt.plot(var1 - var3)\n",
    "plt.grid(True)"
   ]
  },
  {
   "cell_type": "code",
   "execution_count": 26,
   "metadata": {},
   "outputs": [
    {
     "name": "stdout",
     "output_type": "stream",
     "text": [
      "64023.838056680164\n"
     ]
    }
   ],
   "source": [
    "fHdl = open(\"File-214.bin\", \"rb\")\n",
    "var2 = fHdl.read()\n",
    "var3 = st.unpack(\"L\"*int(len(var2)/4), var2)\n",
    "fHdl.close()\n",
    "print(np.mean(var3))"
   ]
  },
  {
   "cell_type": "code",
   "execution_count": 34,
   "metadata": {},
   "outputs": [],
   "source": [
    "# Noveno\n",
    "var1 = np.random.randint(-10, 10, size=1000)\n",
    "file = open(\"FileBinInt16.bin\", 'wb')\n",
    "var2 = st.pack(\"h\"*int(len(var1)), *var1)\n",
    "var3 = file.write(var2)\n",
    "file.close()"
   ]
  },
  {
   "cell_type": "code",
   "execution_count": 38,
   "metadata": {},
   "outputs": [
    {
     "data": {
      "text/plain": [
       "(array([60., 44.,  0., 43., 43.,  0., 50., 51.,  0., 65.,  0., 47., 62.,\n",
       "         0., 49., 43.,  0., 52., 58.,  0., 46.,  0., 40., 44.,  0., 41.,\n",
       "        60.,  0., 47., 55.]),\n",
       " array([-10.        ,  -9.36666667,  -8.73333333,  -8.1       ,\n",
       "         -7.46666667,  -6.83333333,  -6.2       ,  -5.56666667,\n",
       "         -4.93333333,  -4.3       ,  -3.66666667,  -3.03333333,\n",
       "         -2.4       ,  -1.76666667,  -1.13333333,  -0.5       ,\n",
       "          0.13333333,   0.76666667,   1.4       ,   2.03333333,\n",
       "          2.66666667,   3.3       ,   3.93333333,   4.56666667,\n",
       "          5.2       ,   5.83333333,   6.46666667,   7.1       ,\n",
       "          7.73333333,   8.36666667,   9.        ]),\n",
       " <a list of 30 Patch objects>)"
      ]
     },
     "execution_count": 38,
     "metadata": {},
     "output_type": "execute_result"
    },
    {
     "data": {
      "image/png": "[encoded data removed]",
      "text/plain": [
       "<Figure size 432x288 with 1 Axes>"
      ]
     },
     "metadata": {
      "needs_background": "light"
     },
     "output_type": "display_data"
    }
   ],
   "source": [
    "# Decimo\n",
    "file = open(\"FileBinInt16.bin\", 'rb')\n",
    "var2 = file.read()\n",
    "var3 = st.unpack(\"h\"*int((len(var2)/2)), var2)\n",
    "file.close()\n",
    "plt.hist(var3, bins=30)"
   ]
  },
  {
   "cell_type": "code",
   "execution_count": 40,
   "metadata": {},
   "outputs": [],
   "source": [
    "var1 = np.random.uniform(low=-1, high=1, size=1000)\n",
    "file = open(\"FileBinDouble.bin\", \"wb\")\n",
    "var2 = st.pack(\"d\"*int(len(var1)), *var1)\n",
    "var3 = file.write(var2)"
   ]
  },
  {
   "cell_type": "code",
   "execution_count": 58,
   "metadata": {},
   "outputs": [
    {
     "name": "stdout",
     "output_type": "stream",
     "text": [
      "5678\n",
      "1062091905,  1046401057, 1049962955\n"
     ]
    }
   ],
   "source": [
    "# 2 21 43\n",
    "file = open(\"averagebin1.bin\", 'rb')\n",
    "var2 = file.read()\n",
    "var3 = st.unpack(\"i\"*int(len(var2)/4), var2)\n",
    "file.close()\n",
    "print(len(var3))\n",
    "print(f\"{var3[2]},  {var3[21]}, {var3[43]}\")"
   ]
  },
  {
   "cell_type": "code",
   "execution_count": null,
   "metadata": {},
   "outputs": [],
   "source": []
  }
 ],
 "metadata": {
  "kernelspec": {
   "display_name": "Python 3",
   "language": "python",
   "name": "python3"
  },
  "language_info": {
   "codemirror_mode": {
    "name": "ipython",
    "version": 3
   },
   "file_extension": ".py",
   "mimetype": "text/x-python",
   "name": "python",
   "nbconvert_exporter": "python",
   "pygments_lexer": "ipython3",
   "version": "3.7.1"
  }
 },
 "nbformat": 4,
 "nbformat_minor": 2
}
